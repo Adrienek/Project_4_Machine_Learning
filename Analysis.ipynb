{
 "cells": [
  {
   "cell_type": "code",
   "execution_count": 1,
   "id": "f762ac7b",
   "metadata": {},
   "outputs": [],
   "source": [
    "# Import findspark and initialize. \n",
    "import findspark\n",
    "findspark.init()"
   ]
  },
  {
   "cell_type": "code",
   "execution_count": 2,
   "id": "2ac0cf5f",
   "metadata": {
    "scrolled": false
   },
   "outputs": [
    {
     "name": "stderr",
     "output_type": "stream",
     "text": [
      "Setting default log level to \"WARN\".\n",
      "To adjust logging level use sc.setLogLevel(newLevel). For SparkR, use setLogLevel(newLevel).\n",
      "23/09/07 21:10:03 WARN NativeCodeLoader: Unable to load native-hadoop library for your platform... using builtin-java classes where applicable\n"
     ]
    }
   ],
   "source": [
    "# Import packages\n",
    "from pyspark.sql import SparkSession\n",
    "import time\n",
    "\n",
    "# Create a SparkSession\n",
    "spark = SparkSession.builder.appName(\"SparkSQL\").getOrCreate()"
   ]
  },
  {
   "cell_type": "code",
   "execution_count": 3,
   "id": "4355135b",
   "metadata": {},
   "outputs": [
    {
     "name": "stderr",
     "output_type": "stream",
     "text": [
      "\r",
      "[Stage 0:>                                                          (0 + 1) / 1]\r",
      "\r",
      "                                                                                \r"
     ]
    },
    {
     "name": "stdout",
     "output_type": "stream",
     "text": [
      "+------+----+------------+-------------+---------------+-----+-----------+-------------------+--------+------------+\n",
      "|gender| age|hypertension|heart_disease|smoking_history|  bmi|HbA1c_level|blood_glucose_level|diabetes|  binned_age|\n",
      "+------+----+------------+-------------+---------------+-----+-----------+-------------------+--------+------------+\n",
      "|Female|80.0|           0|            1|          never|25.19|        6.6|                140|       0|      senior|\n",
      "|  Male|28.0|           0|            0|          never|27.32|        5.7|                158|       0|young_adults|\n",
      "|Female|36.0|           0|            0|        current|23.45|        5.0|                155|       0|      adults|\n",
      "|  Male|76.0|           1|            1|        current|20.14|        4.8|                155|       0|      senior|\n",
      "|Female|20.0|           0|            0|          never|27.32|        6.6|                 85|       0|young_adults|\n",
      "|Female|44.0|           0|            0|          never|19.31|        6.5|                200|       1|      adults|\n",
      "|  Male|42.0|           0|            0|          never|33.64|        4.8|                145|       0|      adults|\n",
      "|Female|32.0|           0|            0|          never|27.32|        5.0|                100|       0|young_adults|\n",
      "|Female|53.0|           0|            0|          never|27.32|        6.1|                 85|       0|      adults|\n",
      "|Female|54.0|           0|            0|         former| 54.7|        6.0|                100|       0|      adults|\n",
      "|Female|78.0|           0|            0|         former|36.05|        5.0|                130|       0|      senior|\n",
      "|Female|67.0|           0|            0|          never|25.69|        5.8|                200|       0|      senior|\n",
      "|  Male|15.0|           0|            0|          never|30.36|        6.1|                200|       0|        teen|\n",
      "|Female|42.0|           0|            0|          never|24.48|        5.7|                158|       0|      adults|\n",
      "|  Male|37.0|           0|            0|          never|25.72|        3.5|                159|       0|      adults|\n",
      "|  Male|40.0|           0|            0|        current|36.38|        6.0|                 90|       0|      adults|\n",
      "|Female|69.0|           0|            0|          never|21.24|        4.8|                 85|       0|      senior|\n",
      "|Female|72.0|           0|            1|         former|27.94|        6.5|                130|       0|      senior|\n",
      "|  Male|30.0|           0|            0|          never|33.76|        6.1|                126|       0|young_adults|\n",
      "|  Male|67.0|           0|            1|    not current|27.32|        6.5|                200|       1|      senior|\n",
      "+------+----+------------+-------------+---------------+-----+-----------+-------------------+--------+------------+\n",
      "only showing top 20 rows\n",
      "\n"
     ]
    }
   ],
   "source": [
    "# 1. Read in the AWS S3 bucket into a DataFrame.\n",
    "from pyspark import SparkFiles\n",
    "path = \"diabetes_clean_df\"\n",
    "\n",
    "diabetes_df = spark.read.csv(path, sep=\",\", header=True)\n",
    "diabetes_df.show()"
   ]
  },
  {
   "cell_type": "code",
   "execution_count": 4,
   "id": "6cd3e667",
   "metadata": {},
   "outputs": [],
   "source": [
    "diabetes_df.createOrReplaceTempView(\"d_df\")"
   ]
  },
  {
   "cell_type": "code",
   "execution_count": 5,
   "id": "3e765dd3",
   "metadata": {},
   "outputs": [
    {
     "name": "stderr",
     "output_type": "stream",
     "text": [
      "23/09/07 21:10:16 WARN GarbageCollectionMetrics: To enable non-built-in garbage collector(s) List(G1 Concurrent GC), users should configure it(them) to spark.eventLog.gcMetrics.youngGenerationGarbageCollectors or spark.eventLog.gcMetrics.oldGenerationGarbageCollectors\n",
      "[Stage 2:>                                                          (0 + 1) / 1]\r"
     ]
    },
    {
     "name": "stdout",
     "output_type": "stream",
     "text": [
      "+----+----------+\n",
      "| age|count(age)|\n",
      "+----+----------+\n",
      "|0.16|         3|\n",
      "|0.24|         5|\n",
      "|0.32|         4|\n",
      "| 0.4|         4|\n",
      "|0.48|         4|\n",
      "|0.56|         2|\n",
      "|0.64|         3|\n",
      "|0.72|         7|\n",
      "| 0.8|         8|\n",
      "|0.88|         7|\n",
      "| 1.0|         4|\n",
      "|1.08|         5|\n",
      "|1.16|        11|\n",
      "|1.24|         7|\n",
      "|1.32|        16|\n",
      "| 1.4|        10|\n",
      "|1.48|        11|\n",
      "|1.56|         9|\n",
      "|1.64|         8|\n",
      "|1.72|         9|\n",
      "+----+----------+\n",
      "only showing top 20 rows\n",
      "\n"
     ]
    },
    {
     "name": "stderr",
     "output_type": "stream",
     "text": [
      "\r",
      "                                                                                \r"
     ]
    }
   ],
   "source": [
    "#Which variable contributes the most to the onset of diabetes?\n",
    "spark.sql(\"\"\"\n",
    "select age, count(age)\n",
    "from d_df\n",
    "group by age\n",
    "order by age\n",
    "\"\"\").show()"
   ]
  }
 ],
 "metadata": {
  "kernelspec": {
   "display_name": "Python 3 (ipykernel)",
   "language": "python",
   "name": "python3"
  },
  "language_info": {
   "codemirror_mode": {
    "name": "ipython",
    "version": 3
   },
   "file_extension": ".py",
   "mimetype": "text/x-python",
   "name": "python",
   "nbconvert_exporter": "python",
   "pygments_lexer": "ipython3",
   "version": "3.10.9"
  }
 },
 "nbformat": 4,
 "nbformat_minor": 5
}
